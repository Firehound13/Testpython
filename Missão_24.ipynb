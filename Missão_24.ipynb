{
  "nbformat": 4,
  "nbformat_minor": 0,
  "metadata": {
    "colab": {
      "name": "Missão_24",
      "provenance": [],
      "collapsed_sections": [],
      "authorship_tag": "ABX9TyNjBBYI9NgVittxEd8QtsxY",
      "include_colab_link": true
    },
    "kernelspec": {
      "name": "python3",
      "display_name": "Python 3"
    }
  },
  "cells": [
    {
      "cell_type": "markdown",
      "metadata": {
        "id": "view-in-github",
        "colab_type": "text"
      },
      "source": [
        "<a href=\"https://colab.research.google.com/github/Firehound13/Testpython/blob/main/Miss%C3%A3o_24.ipynb\" target=\"_parent\"><img src=\"https://colab.research.google.com/assets/colab-badge.svg\" alt=\"Open In Colab\"/></a>"
      ]
    },
    {
      "cell_type": "code",
      "metadata": {
        "id": "bmal6r-thkdU"
      },
      "source": [
        "# Etapa 1"
      ],
      "execution_count": 1,
      "outputs": []
    },
    {
      "cell_type": "code",
      "metadata": {
        "id": "AkKPO-V-H_0v"
      },
      "source": [
        "nome_atores = ['daniel', 'leandro', 'rogerio', 'paulo', 'andré', 'caio']"
      ],
      "execution_count": 38,
      "outputs": []
    },
    {
      "cell_type": "code",
      "metadata": {
        "id": "6zvN1r-5USg-"
      },
      "source": [
        "def mostrar_atores(atores):\n",
        "  \"\"\"Exibe nome do ator\"\"\"\n",
        "  for ator in atores:\n",
        "    print(f\"O ator {ator.title()} é bom.\")"
      ],
      "execution_count": 39,
      "outputs": []
    },
    {
      "cell_type": "code",
      "metadata": {
        "colab": {
          "base_uri": "https://localhost:8080/"
        },
        "id": "K6ITG1yxHO0O",
        "outputId": "b2bbb90c-78f4-4f41-f7af-12ce1eb99d4d"
      },
      "source": [
        "mostrar_atores(nome_atores)"
      ],
      "execution_count": 40,
      "outputs": [
        {
          "output_type": "stream",
          "name": "stdout",
          "text": [
            "O ator Daniel é bom.\n",
            "O ator Leandro é bom.\n",
            "O ator Rogerio é bom.\n",
            "O ator Paulo é bom.\n",
            "O ator André é bom.\n",
            "O ator Caio é bom.\n"
          ]
        }
      ]
    },
    {
      "cell_type": "code",
      "metadata": {
        "id": "ipcfJNp3hi2m"
      },
      "source": [
        "# Etapa 2"
      ],
      "execution_count": 5,
      "outputs": []
    },
    {
      "cell_type": "code",
      "metadata": {
        "id": "bGJ6_XEU9x_B"
      },
      "source": [
        "nome_atores = ['daniel', 'leandro', 'rogerio', 'paulo', 'andré', 'caio']\n",
        "atores_renomados = []\n",
        "expressão = 'é renomado.'\n",
        "def adicionar_expressao(atores, atores_renomados):\n",
        "  \"\"\"Adiciona a expressão ao nome do ator\"\"\"\n",
        "  while nome_atores:\n",
        "    ator_renomado = nome_atores.pop()\n",
        "    atores_renomados.append(ator_renomado)  \n",
        "  for ator_renomado in atores_renomados:\n",
        "    print(f\"O {ator_renomado.title()} {expressão}\")\n",
        "  "
      ],
      "execution_count": 41,
      "outputs": []
    },
    {
      "cell_type": "code",
      "metadata": {
        "colab": {
          "base_uri": "https://localhost:8080/"
        },
        "id": "MhLY0YMCFhrZ",
        "outputId": "4f6888f0-6c82-42f9-bbd9-ac6cf2f41aa3"
      },
      "source": [
        "adicionar_expressao(nome_atores, atores_renomados)"
      ],
      "execution_count": 42,
      "outputs": [
        {
          "output_type": "stream",
          "name": "stdout",
          "text": [
            "O Caio é renomado.\n",
            "O André é renomado.\n",
            "O Paulo é renomado.\n",
            "O Rogerio é renomado.\n",
            "O Leandro é renomado.\n",
            "O Daniel é renomado.\n"
          ]
        }
      ]
    },
    {
      "cell_type": "code",
      "metadata": {
        "id": "I9kf1uUvyqoy"
      },
      "source": [
        "mostrar_atores(nome_atores)"
      ],
      "execution_count": 43,
      "outputs": []
    },
    {
      "cell_type": "code",
      "metadata": {
        "id": "MGq4SKbGuw6v"
      },
      "source": [
        "# Etapa 3"
      ],
      "execution_count": 31,
      "outputs": []
    },
    {
      "cell_type": "code",
      "metadata": {
        "colab": {
          "base_uri": "https://localhost:8080/"
        },
        "id": "mQVo72paB9JY",
        "outputId": "642e21a8-1595-4b05-b7ef-a1d1b0b8d638"
      },
      "source": [
        "adicionar_expressao(nome_atores[:],atores_renomados)\n",
        "mostrar_atores(atores_renomados[:])"
      ],
      "execution_count": 44,
      "outputs": [
        {
          "output_type": "stream",
          "name": "stdout",
          "text": [
            "O Caio é renomado.\n",
            "O André é renomado.\n",
            "O Paulo é renomado.\n",
            "O Rogerio é renomado.\n",
            "O Leandro é renomado.\n",
            "O Daniel é renomado.\n",
            "O ator Caio é bom.\n",
            "O ator André é bom.\n",
            "O ator Paulo é bom.\n",
            "O ator Rogerio é bom.\n",
            "O ator Leandro é bom.\n",
            "O ator Daniel é bom.\n"
          ]
        }
      ]
    }
  ]
}